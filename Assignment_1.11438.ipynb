{
 "cells": [
  {
   "cell_type": "code",
   "execution_count": 1,
   "metadata": {},
   "outputs": [
    {
     "name": "stdout",
     "output_type": "stream",
     "text": [
      "Welcome to the Data Science session\n"
     ]
    }
   ],
   "source": [
    "#Assignment 1.1 - My first program\n",
    "\n",
    "string = 'Welcome to the Data Science session'\n",
    "print(string)"
   ]
  },
  {
   "cell_type": "code",
   "execution_count": 2,
   "metadata": {},
   "outputs": [
    {
     "name": "stdout",
     "output_type": "stream",
     "text": [
      "2030,2065,2100,2135,2170,2205,2240,2275,2310,2345,2380,2415,2450,2485,2520,2555,2590,2625,2660,2695,2730,2765,2800,2835,2870,2905,2940,2975,3010,3045,3080,3115,3150,3185\n"
     ]
    }
   ],
   "source": [
    "#Assignment 1.2 - Write a program which will find all such numbers which are divisible by 7 but are not a\n",
    "# multiple of 5, between 2000 and 3200 (both included). The numbers obtained should be printed\n",
    "# in a comma-separated sequence on a single line.\n",
    "number_list=[]\n",
    "for x in range(2000, 3201):\n",
    "    if (x%7==0) and (x%5==0):\n",
    "        number_list.append(str(x))\n",
    "print (','.join(number_list))"
   ]
  },
  {
   "cell_type": "code",
   "execution_count": 3,
   "metadata": {},
   "outputs": [
    {
     "name": "stdout",
     "output_type": "stream",
     "text": [
      "Input your First Name : JIREH\n",
      "Input your Last Name : IKOLI\n",
      "Hello my name is  IKOLI JIREH\n"
     ]
    }
   ],
   "source": [
    "# Assignment 1.3 - Write a Python program to accept the user's first and last name and then getting them printed\n",
    "# in the the reverse order with a space between first name and last name.\n",
    "\n",
    "fname = input(\"Input your First Name : \")\n",
    "lname = input(\"Input your Last Name : \")\n",
    "print (\"Hello my name is  \" + lname + \" \" + fname)"
   ]
  },
  {
   "cell_type": "code",
   "execution_count": 4,
   "metadata": {},
   "outputs": [
    {
     "name": "stdout",
     "output_type": "stream",
     "text": [
      "the volume of a sphere is 904.32\n"
     ]
    }
   ],
   "source": [
    "# Assignment 1.4 - Write a Python program to find the volume of a sphere with diameter 12 cm.Formula: V=4/3 * π * r^3\n",
    "\n",
    "PI = 3.14\n",
    "Diameter = 12\n",
    "Radius = Diameter/2\n",
    "Volume = (4/3) * PI * Radius ** 3\n",
    "print(\"the volume of a sphere is %.2f\" %Volume)"
   ]
  },
  {
   "cell_type": "code",
   "execution_count": null,
   "metadata": {},
   "outputs": [],
   "source": []
  }
 ],
 "metadata": {
  "kernelspec": {
   "display_name": "Python 3",
   "language": "python",
   "name": "python3"
  },
  "language_info": {
   "codemirror_mode": {
    "name": "ipython",
    "version": 3
   },
   "file_extension": ".py",
   "mimetype": "text/x-python",
   "name": "python",
   "nbconvert_exporter": "python",
   "pygments_lexer": "ipython3",
   "version": "3.6.5"
  }
 },
 "nbformat": 4,
 "nbformat_minor": 2
}
